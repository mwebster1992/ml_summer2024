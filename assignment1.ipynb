{
  "cells": [
    {
      "cell_type": "markdown",
      "metadata": {
        "id": "view-in-github",
        "colab_type": "text"
      },
      "source": [
        "<a href=\"https://colab.research.google.com/github/mwebster1992/ml_summer2024/blob/main/assignment1.ipynb\" target=\"_parent\"><img src=\"https://colab.research.google.com/assets/colab-badge.svg\" alt=\"Open In Colab\"/></a>"
      ]
    },
    {
      "cell_type": "code",
      "source": [
        "!pip install yellowbrick\n",
        "!pip install torchview\n",
        "!pip install torchsummary"
      ],
      "metadata": {
        "colab": {
          "base_uri": "https://localhost:8080/"
        },
        "id": "nAcP_PHg_MJ-",
        "outputId": "e0823f98-ac5e-4a8d-fa35-53208b0a6cc6"
      },
      "id": "nAcP_PHg_MJ-",
      "execution_count": 1,
      "outputs": [
        {
          "output_type": "stream",
          "name": "stdout",
          "text": [
            "Requirement already satisfied: yellowbrick in /usr/local/lib/python3.10/dist-packages (1.5)\n",
            "Requirement already satisfied: matplotlib!=3.0.0,>=2.0.2 in /usr/local/lib/python3.10/dist-packages (from yellowbrick) (3.7.1)\n",
            "Requirement already satisfied: scipy>=1.0.0 in /usr/local/lib/python3.10/dist-packages (from yellowbrick) (1.11.4)\n",
            "Requirement already satisfied: scikit-learn>=1.0.0 in /usr/local/lib/python3.10/dist-packages (from yellowbrick) (1.2.2)\n",
            "Requirement already satisfied: numpy>=1.16.0 in /usr/local/lib/python3.10/dist-packages (from yellowbrick) (1.25.2)\n",
            "Requirement already satisfied: cycler>=0.10.0 in /usr/local/lib/python3.10/dist-packages (from yellowbrick) (0.12.1)\n",
            "Requirement already satisfied: contourpy>=1.0.1 in /usr/local/lib/python3.10/dist-packages (from matplotlib!=3.0.0,>=2.0.2->yellowbrick) (1.2.1)\n",
            "Requirement already satisfied: fonttools>=4.22.0 in /usr/local/lib/python3.10/dist-packages (from matplotlib!=3.0.0,>=2.0.2->yellowbrick) (4.52.4)\n",
            "Requirement already satisfied: kiwisolver>=1.0.1 in /usr/local/lib/python3.10/dist-packages (from matplotlib!=3.0.0,>=2.0.2->yellowbrick) (1.4.5)\n",
            "Requirement already satisfied: packaging>=20.0 in /usr/local/lib/python3.10/dist-packages (from matplotlib!=3.0.0,>=2.0.2->yellowbrick) (24.0)\n",
            "Requirement already satisfied: pillow>=6.2.0 in /usr/local/lib/python3.10/dist-packages (from matplotlib!=3.0.0,>=2.0.2->yellowbrick) (9.4.0)\n",
            "Requirement already satisfied: pyparsing>=2.3.1 in /usr/local/lib/python3.10/dist-packages (from matplotlib!=3.0.0,>=2.0.2->yellowbrick) (3.1.2)\n",
            "Requirement already satisfied: python-dateutil>=2.7 in /usr/local/lib/python3.10/dist-packages (from matplotlib!=3.0.0,>=2.0.2->yellowbrick) (2.8.2)\n",
            "Requirement already satisfied: joblib>=1.1.1 in /usr/local/lib/python3.10/dist-packages (from scikit-learn>=1.0.0->yellowbrick) (1.4.2)\n",
            "Requirement already satisfied: threadpoolctl>=2.0.0 in /usr/local/lib/python3.10/dist-packages (from scikit-learn>=1.0.0->yellowbrick) (3.5.0)\n",
            "Requirement already satisfied: six>=1.5 in /usr/local/lib/python3.10/dist-packages (from python-dateutil>=2.7->matplotlib!=3.0.0,>=2.0.2->yellowbrick) (1.16.0)\n",
            "Collecting torchview\n",
            "  Downloading torchview-0.2.6-py3-none-any.whl (25 kB)\n",
            "Installing collected packages: torchview\n",
            "Successfully installed torchview-0.2.6\n",
            "Requirement already satisfied: torchsummary in /usr/local/lib/python3.10/dist-packages (1.5.1)\n"
          ]
        }
      ]
    },
    {
      "cell_type": "code",
      "execution_count": 2,
      "id": "18f6fe0e",
      "metadata": {
        "id": "18f6fe0e"
      },
      "outputs": [],
      "source": [
        "import pandas as pd\n",
        "import numpy as np\n",
        "import seaborn as sns\n",
        "import random\n",
        "from sklearn.model_selection import train_test_split, StratifiedKFold, cross_val_score\n",
        "from sklearn import svm\n",
        "from sklearn.neighbors import KNeighborsClassifier\n",
        "from sklearn.metrics import accuracy_score,confusion_matrix\n",
        "from sklearn.preprocessing import StandardScaler\n",
        "from sklearn.pipeline import make_pipeline\n",
        "from yellowbrick.model_selection import learning_curve\n",
        "import matplotlib.pyplot as plt\n",
        "import torch\n",
        "import torch.nn as nn\n",
        "import torch.nn.functional as F\n",
        "import torch.optim as optim\n",
        "from torch.utils.data import Dataset, DataLoader\n",
        "from torchsummary import summary"
      ]
    },
    {
      "cell_type": "code",
      "source": [
        "from google.colab import drive\n",
        "drive.mount('/content/drive')"
      ],
      "metadata": {
        "colab": {
          "base_uri": "https://localhost:8080/"
        },
        "id": "UILLG7uCxzx0",
        "outputId": "a938475d-0e92-44a4-f328-d16ba17689b9"
      },
      "id": "UILLG7uCxzx0",
      "execution_count": 3,
      "outputs": [
        {
          "output_type": "stream",
          "name": "stdout",
          "text": [
            "Mounted at /content/drive\n"
          ]
        }
      ]
    },
    {
      "cell_type": "code",
      "source": [
        "random_seed = 42\n",
        "np.random.seed(random_seed)\n",
        "random.seed(random_seed)"
      ],
      "metadata": {
        "id": "IL4gug7p9DrM"
      },
      "id": "IL4gug7p9DrM",
      "execution_count": 4,
      "outputs": []
    },
    {
      "cell_type": "code",
      "execution_count": 5,
      "id": "f0c42af7",
      "metadata": {
        "colab": {
          "base_uri": "https://localhost:8080/",
          "height": 70
        },
        "id": "f0c42af7",
        "outputId": "b957e71e-5492-4a56-d58a-6f13ca6fd69f"
      },
      "outputs": [
        {
          "output_type": "execute_result",
          "data": {
            "text/plain": [
              "'df_1 = pd.read_csv(\\'/content/drive/MyDrive/trawlers.csv\\', index_col=False).dropna()\\ndf_1 = df_1.drop(columns=[\\'mmsi\\', \\'timestamp\\', \\'source\\'])\\n\\n# We have over 4,000,000 rows, but only roughly 177,000 of them are labeled.  If \"is_fishing\" == -1.0 there is no label recorded.\\n# Cleaning these out of the data is simple:\\n\\ndf_1.drop(df_1.loc[df_1[\\'is_fishing\\'] < 0.0].index, inplace=True)\\nmask = df_1[\\'is_fishing\\'] > 0.0\\ndf_1.loc[mask, \\'is_fishing\\'] = 1.0\\nprint(\"Total Rows\", df_1.shape[0])\\n# df_1.head()\\n\\nX = df_1.drop(\\'is_fishing\\', axis=1)\\ny = df_1[\\'is_fishing\\']\\n\\ndf_1.to_csv(\\'/content/drive/My Drive/fishing_data_cleaned.csv\\', index=False)'"
            ],
            "application/vnd.google.colaboratory.intrinsic+json": {
              "type": "string"
            }
          },
          "metadata": {},
          "execution_count": 5
        }
      ],
      "source": [
        "# Uncomment if first time running to read in data and clean\n",
        "\n",
        "\"\"\"df_1 = pd.read_csv('/content/drive/MyDrive/trawlers.csv', index_col=False).dropna()\n",
        "df_1 = df_1.drop(columns=['mmsi', 'timestamp', 'source'])\n",
        "\n",
        "# We have over 4,000,000 rows, but only roughly 177,000 of them are labeled.  If \"is_fishing\" == -1.0 there is no label recorded.\n",
        "# Cleaning these out of the data is simple:\n",
        "\n",
        "df_1.drop(df_1.loc[df_1['is_fishing'] < 0.0].index, inplace=True)\n",
        "mask = df_1['is_fishing'] > 0.0\n",
        "df_1.loc[mask, 'is_fishing'] = 1.0\n",
        "print(\"Total Rows\", df_1.shape[0])\n",
        "# df_1.head()\n",
        "\n",
        "X = df_1.drop('is_fishing', axis=1)\n",
        "y = df_1['is_fishing']\n",
        "\n",
        "df_1.to_csv('/content/drive/My Drive/fishing_data_cleaned.csv', index=False)\"\"\"# Reading and Cleaning\n",
        "\n"
      ]
    },
    {
      "cell_type": "code",
      "source": [
        "#Run if data has previously been cleaned and saved\n",
        "df_1 = pd.read_csv('/content/drive/MyDrive/fishing_data_cleaned.csv', index_col=False)\n"
      ],
      "metadata": {
        "id": "KCVqY3E5pA-E"
      },
      "id": "KCVqY3E5pA-E",
      "execution_count": 6,
      "outputs": []
    },
    {
      "cell_type": "code",
      "source": [
        "X_1 = df_1.drop('is_fishing', axis=1)\n",
        "y_1 = df_1['is_fishing']"
      ],
      "metadata": {
        "id": "1OWMy7qSwlwO"
      },
      "id": "1OWMy7qSwlwO",
      "execution_count": 7,
      "outputs": []
    },
    {
      "cell_type": "code",
      "source": [
        "linear_trainacc_1 = []\n",
        "linear_testacc_1 = []\n",
        "rbf_trainacc_1 = []\n",
        "rbf_testacc_1 = []"
      ],
      "metadata": {
        "id": "JZv8cslvsxXE"
      },
      "id": "JZv8cslvsxXE",
      "execution_count": 8,
      "outputs": []
    },
    {
      "cell_type": "code",
      "execution_count": 9,
      "id": "6ac4d50c",
      "metadata": {
        "id": "6ac4d50c"
      },
      "outputs": [],
      "source": [
        "\n",
        "X_train_1, X_test_1, y_train_1, y_test_1 = train_test_split(X_1, y_1, test_size=0.2, random_state=random_seed, stratify=y_1)\n",
        "\n",
        "scaling = StandardScaler()\n",
        "X_train_1 = scaling.fit_transform(X_train_1)\n",
        "X_test_1 = scaling.transform(X_test_1)\n",
        "\n",
        "\n"
      ]
    },
    {
      "cell_type": "code",
      "source": [
        "# C-Value of 0.01 and Linear Kernel\n",
        "\n",
        "svm1_1 = svm.SVC(kernel='linear', C = 0.01)\n",
        "svm1_1.fit(X_train_1, y_train_1)\n",
        "\n",
        "y_train_pred = svm1_1.predict(X_train_1)\n",
        "y_test_pred = svm1_1.predict(X_test_1)\n",
        "\n",
        "test1_linear_trainacc = accuracy_score(y_train_1, y_train_pred)\n",
        "linear_trainacc_1.append(test1_linear_trainacc)\n",
        "\n",
        "test1_linear_testacc = accuracy_score(y_test_1, y_test_pred)\n",
        "linear_testacc_1.append(test1_linear_testacc)"
      ],
      "metadata": {
        "id": "N5p2TZnhw35I"
      },
      "id": "N5p2TZnhw35I",
      "execution_count": null,
      "outputs": []
    },
    {
      "cell_type": "code",
      "source": [
        "# C-Value of 0.1 and Linear Kernel\n",
        "\n",
        "svm1_2 = svm.SVC(kernel='linear', C = 0.1)\n",
        "svm1_2.fit(X_train_1, y_train_1)\n",
        "\n",
        "y_train_pred = svm1_2.predict(X_train_1)\n",
        "y_test_pred = svm1_2.predict(X_test_1)\n",
        "\n",
        "test2_linear_trainacc = accuracy_score(y_train_1, y_train_pred)\n",
        "linear_trainacc_1.append(test2_linear_trainacc)\n",
        "test2_linear_testacc = accuracy_score(y_test_1, y_test_pred)\n",
        "linear_testacc_1.append(test2_linear_testacc)\n"
      ],
      "metadata": {
        "id": "4YIwmTbhxDvD"
      },
      "id": "4YIwmTbhxDvD",
      "execution_count": null,
      "outputs": []
    },
    {
      "cell_type": "code",
      "source": [
        "# C-Value of 1.0 and Linear Kernel\n",
        "svm1_3 = svm.SVC(kernel='linear', C = 1)\n",
        "svm1_3.fit(X_train_1, y_train_1)\n",
        "\n",
        "y_train_pred = svm1_3.predict(X_train_1)\n",
        "y_test_pred = svm1_3.predict(X_test_1)\n",
        "\n",
        "test3_linear_trainacc = accuracy_score(y_train_1, y_train_pred)\n",
        "linear_trainacc_1.append(test3_linear_trainacc)\n",
        "test3_linear_testacc = accuracy_score(y_test_1, y_test_pred)\n",
        "linear_testacc_1.append(test3_linear_testacc)"
      ],
      "metadata": {
        "id": "Isw0Udr32u8X"
      },
      "id": "Isw0Udr32u8X",
      "execution_count": null,
      "outputs": []
    },
    {
      "cell_type": "code",
      "source": [
        "X_1 = scaling.fit_transform(X_1)"
      ],
      "metadata": {
        "id": "-j9cO3S1VatX"
      },
      "id": "-j9cO3S1VatX",
      "execution_count": null,
      "outputs": []
    },
    {
      "cell_type": "code",
      "source": [
        "lcsvm_1 = svm.SVC(kernel='linear', C = 1)\n",
        "learning_curve(lcsvm_1, X_1, y_1, scoring='f1_weighted', title=\"Learning Curve for Best Linear SVM -- Dataset 1\")"
      ],
      "metadata": {
        "id": "akowLKG9VMoi"
      },
      "id": "akowLKG9VMoi",
      "execution_count": null,
      "outputs": []
    },
    {
      "cell_type": "code",
      "source": [
        "# C-Value of 0.01 and RBF Kernel\n",
        "svm2_1 = svm.SVC(kernel='rbf', C = 0.01)\n",
        "svm2_1.fit(X_train_1, y_train_1)\n",
        "\n",
        "y_train_pred = svm2_1.predict(X_train_1)\n",
        "y_test_pred = svm2_1.predict(X_test_1)\n",
        "\n",
        "test1_rbf_trainacc = accuracy_score(y_train_1, y_train_pred)\n",
        "test1_rbf_testacc = accuracy_score(y_test_1, y_test_pred)\n",
        "rbf_trainacc_1.append(test1_rbf_trainacc)\n",
        "rbf_testacc_1.append(test1_rbf_testacc)"
      ],
      "metadata": {
        "id": "GczdXIMyxJXx"
      },
      "id": "GczdXIMyxJXx",
      "execution_count": null,
      "outputs": []
    },
    {
      "cell_type": "code",
      "source": [
        "# C-Value of 0.1 and RBF Kernel\n",
        "svm2_2 = svm.SVC(kernel='rbf', C = 0.1)\n",
        "svm2_2.fit(X_train_1, y_train_1)\n",
        "\n",
        "y_train_pred = svm2_2.predict(X_train_1)\n",
        "y_test_pred = svm2_2.predict(X_test_1)\n",
        "\n",
        "test2_rbf_trainacc = accuracy_score(y_train_1, y_train_pred)\n",
        "test2_rbf_testacc = accuracy_score(y_test_1, y_test_pred)\n",
        "rbf_trainacc_1.append(test2_rbf_trainacc)\n",
        "rbf_testacc_1.append(test2_rbf_testacc)"
      ],
      "metadata": {
        "id": "CUk8nxRi_NwT"
      },
      "id": "CUk8nxRi_NwT",
      "execution_count": null,
      "outputs": []
    },
    {
      "cell_type": "code",
      "source": [
        "# C-Value of 1.0 and RBF Kernel\n",
        "svm2_3 = svm.SVC(kernel='rbf', C = 1)\n",
        "svm2_3.fit(X_train_1, y_train_1)\n",
        "\n",
        "y_train_pred = svm2_3.predict(X_train_1)\n",
        "y_test_pred = svm2_3.predict(X_test_1)\n",
        "\n",
        "test3_rbf_trainacc = accuracy_score(y_train_1, y_train_pred)\n",
        "test3_rbf_testacc = accuracy_score(y_test_1, y_test_pred)\n",
        "rbf_trainacc_1.append(test3_rbf_trainacc)\n",
        "rbf_testacc_1.append(test3_rbf_testacc)"
      ],
      "metadata": {
        "id": "q9aygNmn_OPe"
      },
      "id": "q9aygNmn_OPe",
      "execution_count": null,
      "outputs": []
    },
    {
      "cell_type": "code",
      "source": [
        "lcsvm_2 = svm.SVC(kernel='rbf', C = 1)\n",
        "learning_curve(lcsvm_2, X_1, y_1, scoring='f1_weighted', title=\"Learning Curve for Best RBF SVM -- Dataset 1\")"
      ],
      "metadata": {
        "id": "6qiI3K7SCmOD"
      },
      "id": "6qiI3K7SCmOD",
      "execution_count": null,
      "outputs": []
    },
    {
      "cell_type": "code",
      "source": [
        "# Generate Figure 1 -- Linear Accuracy Scores\n",
        "c_values = [0.01, 0.1, 1]\n",
        "fig, ax = plt.subplots()\n",
        "\n",
        "bar_width = 0.35\n",
        "index = range(len(c_values))\n",
        "\n",
        "# Bars for the first and second set of accuracy scores (train then test)\n",
        "bar_train = ax.bar(index, linear_trainacc_1, bar_width, label='Train Accuracy')\n",
        "bar_test = ax.bar([i + bar_width for i in index], linear_testacc_1, bar_width, label='Test Accuracy')\n",
        "\n",
        "\n",
        "# Set labels and title\n",
        "ax.set_xlabel('C-Values')\n",
        "ax.set_ylabel('Accuracy Scores')\n",
        "ax.set_ylim([0.6, 1.0])\n",
        "ax.set_yticks\n",
        "ax.set_title('Linear Accuracy Scores for Different C-Values')\n",
        "ax.set_xticks([i + bar_width/2 for i in index])\n",
        "ax.set_xticklabels(c_values)\n",
        "\n",
        "# Add text labels on top of the bars\n",
        "for bars in [bar_train, bar_test]:\n",
        "    for bar in bars:\n",
        "        yval = round(bar.get_height(),4)\n",
        "        ax.text(bar.get_x() + bar.get_width()/2, yval + 0.01, yval, ha='center', va='bottom')\n",
        "\n",
        "ax.legend()\n",
        "\n",
        "fig1 = plt.gcf()\n",
        "plt.show()\n",
        "fig1.savefig('/content/drive/MyDrive/linear_accuracy_scores.png')\n",
        "plt.close()"
      ],
      "metadata": {
        "id": "SqYNyndSpt1Q"
      },
      "id": "SqYNyndSpt1Q",
      "execution_count": null,
      "outputs": []
    },
    {
      "cell_type": "code",
      "source": [
        "# Generate Figure 1 -- RBF Accuracy Scores\n",
        "c_values = [0.01, 0.1, 1]\n",
        "fig, ax = plt.subplots()\n",
        "\n",
        "bar_width = 0.35\n",
        "index = range(len(c_values))\n",
        "\n",
        "# Bars for the first and second set of accuracy scores (train then test)\n",
        "bar_train = ax.bar(index, rbf_trainacc_1, bar_width, label='Train Accuracy')\n",
        "bar_test = ax.bar([i + bar_width for i in index], rbf_testacc_1, bar_width, label='Test Accuracy')\n",
        "\n",
        "\n",
        "# Set labels and title\n",
        "ax.set_xlabel('C-Values')\n",
        "ax.set_ylabel('Accuracy Scores')\n",
        "ax.set_ylim([0.6, 1.0])\n",
        "ax.set_yticks\n",
        "ax.set_title('RBF Accuracy Scores for Different C-Values')\n",
        "ax.set_xticks([i + bar_width/2 for i in index])\n",
        "ax.set_xticklabels(c_values)\n",
        "\n",
        "# Add text labels on top of the bars\n",
        "for bars in [bar_train, bar_test]:\n",
        "    for bar in bars:\n",
        "        yval = round(bar.get_height(),4)\n",
        "        ax.text(bar.get_x() + bar.get_width()/2, yval + 0.01, yval, ha='center', va='bottom')\n",
        "\n",
        "\n",
        "\n",
        "ax.legend()\n",
        "fig2 = plt.gcf()\n",
        "plt.show()\n",
        "fig2.savefig('/content/drive/MyDrive/rbf_accuracy_scores.png')\n",
        "plt.close()"
      ],
      "metadata": {
        "id": "EoSE9X16x3F6"
      },
      "id": "EoSE9X16x3F6",
      "execution_count": null,
      "outputs": []
    },
    {
      "cell_type": "code",
      "source": [
        "df_2 = pd.read_csv('/content/drive/MyDrive/boston_2019.csv', index_col=False)"
      ],
      "metadata": {
        "id": "6X_VZnSXB9Ki"
      },
      "id": "6X_VZnSXB9Ki",
      "execution_count": null,
      "outputs": []
    },
    {
      "cell_type": "code",
      "source": [
        "country_to_int = {}\n",
        "counter = 1"
      ],
      "metadata": {
        "id": "DJRRQIyHEaDN"
      },
      "id": "DJRRQIyHEaDN",
      "execution_count": null,
      "outputs": []
    },
    {
      "cell_type": "code",
      "source": [
        "def add_to_dict(code):\n",
        "    global counter\n",
        "    if code not in country_to_int:\n",
        "        country_to_int[code] = counter\n",
        "        counter += 1\n",
        "    return country_to_int[code]\n",
        "\n",
        "def gender_to_int(gender):\n",
        "    if gender == 'M':\n",
        "        return 1\n",
        "    elif gender == 'F':\n",
        "        return 2\n",
        "    else:\n",
        "        return 0"
      ],
      "metadata": {
        "id": "wFN5dJ0LFSxn"
      },
      "id": "wFN5dJ0LFSxn",
      "execution_count": null,
      "outputs": []
    },
    {
      "cell_type": "code",
      "source": [
        "df_2['Country_code'] = df_2['Country_code'].apply(add_to_dict)"
      ],
      "metadata": {
        "id": "5lRmiJTKGidl"
      },
      "id": "5lRmiJTKGidl",
      "execution_count": null,
      "outputs": []
    },
    {
      "cell_type": "code",
      "source": [
        "df_2.drop(columns=['Country', 'Result_hr'], inplace=True)"
      ],
      "metadata": {
        "id": "XnKYzCZbGtHh"
      },
      "id": "XnKYzCZbGtHh",
      "execution_count": null,
      "outputs": []
    },
    {
      "cell_type": "code",
      "source": [
        "df_2['Gender'] = df_2['Gender'].apply(gender_to_int)"
      ],
      "metadata": {
        "id": "9nsLA738G21H"
      },
      "id": "9nsLA738G21H",
      "execution_count": null,
      "outputs": []
    },
    {
      "cell_type": "code",
      "source": [
        "def assign_to_group(seconds):\n",
        "    # Define the base interval (15 minutes in seconds)\n",
        "    interval = 900\n",
        "\n",
        "    # Define the range for each group, starting from 7500\n",
        "    group_ranges = [(7500 + i * interval, 7500 + (i + 1) * interval) for i in range(26000 // interval)]\n",
        "\n",
        "    # Assign each time to a group\n",
        "    for i, (start, end) in enumerate(group_ranges):\n",
        "        if start <= seconds < end:\n",
        "            return i + 1  # Groups are 1-indexed\n",
        "\n",
        "    # If the time is greater than the last group, assign to the last group\n",
        "    return len(group_ranges) + 1"
      ],
      "metadata": {
        "id": "Yhv-_XcQJm1E"
      },
      "id": "Yhv-_XcQJm1E",
      "execution_count": null,
      "outputs": []
    },
    {
      "cell_type": "code",
      "source": [
        "df_2['Result_sec'] = df_2['Result_sec'].apply(assign_to_group)"
      ],
      "metadata": {
        "id": "4eEfVoXEJrEe"
      },
      "id": "4eEfVoXEJrEe",
      "execution_count": null,
      "outputs": []
    },
    {
      "cell_type": "code",
      "source": [
        "X_2 = df_2.drop('Result_sec', axis=1)\n",
        "y_2 = df_2['Result_sec']"
      ],
      "metadata": {
        "id": "0raLVD8KLiWT"
      },
      "execution_count": null,
      "outputs": [],
      "id": "0raLVD8KLiWT"
    },
    {
      "cell_type": "code",
      "source": [
        "linear_trainacc_2= []\n",
        "linear_testacc_2 = []\n",
        "rbf_trainacc_2 = []\n",
        "rbf_testacc_2 = []"
      ],
      "metadata": {
        "id": "qF2orcQBLiWV"
      },
      "execution_count": null,
      "outputs": [],
      "id": "qF2orcQBLiWV"
    },
    {
      "cell_type": "code",
      "execution_count": null,
      "metadata": {
        "id": "5b0Rz3pqLiWV"
      },
      "outputs": [],
      "source": [
        "\n",
        "X_train_2, X_test_2, y_train_2, y_test_2 = train_test_split(X_2, y_2, test_size=0.2, random_state=random_seed, stratify=y_2)\n",
        "\n",
        "scaling = StandardScaler()\n",
        "X_train_2 = scaling.fit_transform(X_train_2)\n",
        "X_test_2 = scaling.transform(X_test_2)\n",
        "\n",
        "\n"
      ],
      "id": "5b0Rz3pqLiWV"
    },
    {
      "cell_type": "code",
      "source": [
        "# C-Value of 0.01 and Linear Kernel\n",
        "\n",
        "svm3_1 = svm.SVC(kernel='linear', C = 0.01)\n",
        "svm3_1.fit(X_train_2, y_train_2)\n",
        "\n",
        "y_train_pred = svm3_1.predict(X_train_2)\n",
        "y_test_pred = svm3_1.predict(X_test_2)\n",
        "\n",
        "test1_linear_trainacc = accuracy_score(y_train_2, y_train_pred)\n",
        "linear_trainacc_2.append(test1_linear_trainacc)\n",
        "\n",
        "test1_linear_testacc = accuracy_score(y_test_2, y_test_pred)\n",
        "linear_testacc_2.append(test1_linear_testacc)"
      ],
      "metadata": {
        "id": "pwctBhT_LiWV"
      },
      "execution_count": null,
      "outputs": [],
      "id": "pwctBhT_LiWV"
    },
    {
      "cell_type": "code",
      "source": [
        "# C-Value of 0.1 and Linear Kernel\n",
        "\n",
        "svm3_2 = svm.SVC(kernel='linear', C = 0.1)\n",
        "svm3_2.fit(X_train_2, y_train_2)\n",
        "\n",
        "y_train_pred = svm3_2.predict(X_train_2)\n",
        "y_test_pred = svm3_2.predict(X_test_2)\n",
        "\n",
        "test2_linear_trainacc = accuracy_score(y_train_2, y_train_pred)\n",
        "linear_trainacc_2.append(test2_linear_trainacc)\n",
        "test2_linear_testacc = accuracy_score(y_test_2, y_test_pred)\n",
        "linear_testacc_2.append(test2_linear_testacc)\n"
      ],
      "metadata": {
        "id": "AQMBfKbSLiWV"
      },
      "execution_count": null,
      "outputs": [],
      "id": "AQMBfKbSLiWV"
    },
    {
      "cell_type": "code",
      "source": [
        "# C-Value of 1.0 and Linear Kernel\n",
        "svm3_3 = svm.SVC(kernel='linear', C = 1)\n",
        "svm3_3.fit(X_train_2, y_train_2)\n",
        "\n",
        "y_train_pred = svm3_3.predict(X_train_2)\n",
        "y_test_pred = svm3_3.predict(X_test_2)\n",
        "\n",
        "test3_linear_trainacc = accuracy_score(y_train_2, y_train_pred)\n",
        "linear_trainacc_2.append(test3_linear_trainacc)\n",
        "test3_linear_testacc = accuracy_score(y_test_2, y_test_pred)\n",
        "linear_testacc_2.append(test3_linear_testacc)"
      ],
      "metadata": {
        "id": "5r_DyvzdLiWV"
      },
      "execution_count": null,
      "outputs": [],
      "id": "5r_DyvzdLiWV"
    },
    {
      "cell_type": "code",
      "source": [
        "# C-Value of 0.01 and RBF Kernel\n",
        "svm4_1 = svm.SVC(kernel='rbf', C = 0.01)\n",
        "svm4_1.fit(X_train_2, y_train_2)\n",
        "\n",
        "y_train_pred = svm4_1.predict(X_train_2)\n",
        "y_test_pred = svm4_1.predict(X_test_2)\n",
        "\n",
        "test1_rbf_trainacc = accuracy_score(y_train_2, y_train_pred)\n",
        "test1_rbf_testacc = accuracy_score(y_test_2, y_test_pred)\n",
        "rbf_trainacc_2.append(test1_rbf_trainacc)\n",
        "rbf_testacc_2.append(test1_rbf_testacc)"
      ],
      "metadata": {
        "id": "PZOfV3V2LiWW"
      },
      "execution_count": null,
      "outputs": [],
      "id": "PZOfV3V2LiWW"
    },
    {
      "cell_type": "code",
      "source": [
        "# C-Value of 0.1 and RBF Kernel\n",
        "svm4_2 = svm.SVC(kernel='rbf', C = 0.1)\n",
        "svm4_2.fit(X_train_2, y_train_2)\n",
        "\n",
        "y_train_pred = svm4_2.predict(X_train_2)\n",
        "y_test_pred = svm4_2.predict(X_test_2)\n",
        "\n",
        "test2_rbf_trainacc = accuracy_score(y_train_2, y_train_pred)\n",
        "test2_rbf_testacc = accuracy_score(y_test_2, y_test_pred)\n",
        "rbf_trainacc_2.append(test2_rbf_trainacc)\n",
        "rbf_testacc_2.append(test2_rbf_testacc)"
      ],
      "metadata": {
        "id": "fA7eNhEsLiWW"
      },
      "execution_count": null,
      "outputs": [],
      "id": "fA7eNhEsLiWW"
    },
    {
      "cell_type": "code",
      "source": [
        "# C-Value of 1.0 and RBF Kernel\n",
        "svm4_3 = svm.SVC(kernel='rbf', C = 1)\n",
        "svm4_3.fit(X_train_2, y_train_2)\n",
        "\n",
        "y_train_pred = svm4_3.predict(X_train_2)\n",
        "y_test_pred = svm4_3.predict(X_test_2)\n",
        "\n",
        "test3_rbf_trainacc = accuracy_score(y_train_2, y_train_pred)\n",
        "test3_rbf_testacc = accuracy_score(y_test_2, y_test_pred)\n",
        "rbf_trainacc_2.append(test3_rbf_trainacc)\n",
        "rbf_testacc_2.append(test3_rbf_testacc)"
      ],
      "metadata": {
        "id": "iaIA7bSPLiWX"
      },
      "execution_count": null,
      "outputs": [],
      "id": "iaIA7bSPLiWX"
    },
    {
      "cell_type": "code",
      "source": [
        "# Generate Figure 1 -- Linear Accuracy Scores\n",
        "c_values = [0.01, 0.1, 1]\n",
        "fig, ax = plt.subplots()\n",
        "\n",
        "bar_width = 0.35\n",
        "index = range(len(c_values))\n",
        "\n",
        "# Bars for the first and second set of accuracy scores (train then test)\n",
        "bar_train = ax.bar(index, linear_trainacc_2, bar_width, label='Train Accuracy')\n",
        "bar_test = ax.bar([i + bar_width for i in index], linear_testacc_2, bar_width, label='Test Accuracy')\n",
        "\n",
        "\n",
        "# Set labels and title\n",
        "ax.set_xlabel('C-Values')\n",
        "ax.set_ylabel('Accuracy Scores')\n",
        "ax.set_ylim([0.0, 1.0])\n",
        "ax.set_yticks\n",
        "ax.set_title('Linear Accuracy Scores for Different C-Values -- Dataset 2')\n",
        "ax.set_xticks([i + bar_width/2 for i in index])\n",
        "ax.set_xticklabels(c_values)\n",
        "\n",
        "# Add text labels on top of the bars\n",
        "for bars in [bar_train, bar_test]:\n",
        "    for bar in bars:\n",
        "        yval = round(bar.get_height(),4)\n",
        "        ax.text(bar.get_x() + bar.get_width()/2, yval + 0.01, yval, ha='center', va='bottom')\n",
        "\n",
        "ax.legend()\n",
        "\n",
        "fig1 = plt.gcf()\n",
        "plt.show()\n",
        "fig1.savefig('/content/drive/MyDrive/linear_accuracy_scores_data2.png')\n",
        "plt.close()"
      ],
      "metadata": {
        "id": "hXI_uGt-LiWX"
      },
      "execution_count": null,
      "outputs": [],
      "id": "hXI_uGt-LiWX"
    },
    {
      "cell_type": "code",
      "source": [
        "# Generate Figure 1 -- RBF Accuracy Scores\n",
        "c_values = [0.01, 0.1, 1]\n",
        "fig, ax = plt.subplots()\n",
        "\n",
        "bar_width = 0.35\n",
        "index = range(len(c_values))\n",
        "\n",
        "# Bars for the first and second set of accuracy scores (train then test)\n",
        "bar_train = ax.bar(index, rbf_trainacc_2, bar_width, label='Train Accuracy')\n",
        "bar_test = ax.bar([i + bar_width for i in index], rbf_testacc_2, bar_width, label='Test Accuracy')\n",
        "\n",
        "\n",
        "# Set labels and title\n",
        "ax.set_xlabel('C-Values')\n",
        "ax.set_ylabel('Accuracy Scores')\n",
        "ax.set_ylim([0.0, 1.0])\n",
        "ax.set_yticks\n",
        "ax.set_title('RBF Accuracy Scores for Different C-Values -- Dataset 2')\n",
        "ax.set_xticks([i + bar_width/2 for i in index])\n",
        "ax.set_xticklabels(c_values)\n",
        "\n",
        "# Add text labels on top of the bars\n",
        "for bars in [bar_train, bar_test]:\n",
        "    for bar in bars:\n",
        "        yval = round(bar.get_height(),4)\n",
        "        ax.text(bar.get_x() + bar.get_width()/2, yval + 0.01, yval, ha='center', va='bottom')\n",
        "\n",
        "\n",
        "\n",
        "ax.legend(loc='upper left')\n",
        "fig2 = plt.gcf()\n",
        "plt.show()\n",
        "fig2.savefig('/content/drive/MyDrive/rbf_accuracy_scores_data2.png')\n",
        "plt.close()"
      ],
      "metadata": {
        "id": "-gr8eiWJLiWX"
      },
      "execution_count": null,
      "outputs": [],
      "id": "-gr8eiWJLiWX"
    },
    {
      "cell_type": "code",
      "source": [
        "X_2 = scaling.fit_transform(X_2)"
      ],
      "metadata": {
        "id": "mhiccoTrKx1w"
      },
      "id": "mhiccoTrKx1w",
      "execution_count": null,
      "outputs": []
    },
    {
      "cell_type": "code",
      "source": [
        "lcsvm_3 = svm.SVC(kernel='linear', C = 1)\n",
        "learning_curve(lcsvm_3, X_2, y_2, scoring='f1_weighted', title=\"Learning Curve for Best Linear SVM -- Dataset 2\")"
      ],
      "metadata": {
        "id": "KVIhxIflrtek"
      },
      "id": "KVIhxIflrtek",
      "execution_count": null,
      "outputs": []
    },
    {
      "cell_type": "code",
      "source": [
        "lcsvm_4 = svm.SVC(kernel='rbf', C = 1)\n",
        "learning_curve(lcsvm_4, X_2, y_2, scoring='f1_weighted', title=\"Learning Curve for Best RBF SVM -- Dataset 2\")"
      ],
      "metadata": {
        "id": "FwSXarHjsS2v"
      },
      "id": "FwSXarHjsS2v",
      "execution_count": null,
      "outputs": []
    },
    {
      "cell_type": "code",
      "source": [
        "# KNN Section:  Finding optimal K value for Dataset 1 and Dataset 2 using iteration."
      ],
      "metadata": {
        "id": "W7QPXcb2H-Bt"
      },
      "id": "W7QPXcb2H-Bt",
      "execution_count": null,
      "outputs": []
    },
    {
      "cell_type": "code",
      "source": [
        "k_values_1 = [i for i in range (1,50)]\n",
        "scores_1 = []\n",
        "\n",
        "for k in k_values_1:\n",
        "    knn = KNeighborsClassifier(n_neighbors=k)\n",
        "    score = cross_val_score(knn, X_1, y_1, cv=5)\n",
        "    scores_1.append(np.mean(score))\n",
        "\n",
        "\n",
        "sns.lineplot(x = k_values_1, y = scores_1, marker = 'o', title='Accuracy As K-Value Increases -- Dataset 1')\n",
        "plt.xlabel(\"K Values\")\n",
        "plt.ylabel(\"Accuracy Score\")\n",
        "plt.savefig(r'/content/drive/MyDrive/knn_accuracy_1.png')\n"
      ],
      "metadata": {
        "id": "yzAoaUdkHiX-"
      },
      "id": "yzAoaUdkHiX-",
      "execution_count": null,
      "outputs": []
    },
    {
      "cell_type": "code",
      "source": [
        "k_values_2 = [i for i in range (1,50)]\n",
        "scores_2 = []\n",
        "\n",
        "for k in k_values_1:\n",
        "    knn = KNeighborsClassifier(n_neighbors=k)\n",
        "    score = cross_val_score(knn, X_2, y_2, cv=5)\n",
        "    scores_2.append(np.mean(score))\n",
        "\n",
        "\n",
        "sns.lineplot(x = k_values_2, y = scores_2, marker = 'o', title='Accuracy As K-Value Increases -- Dataset 2')\n",
        "plt.xlabel(\"K Values\")\n",
        "plt.ylabel(\"Accuracy Score\")\n",
        "plt.savefig(r'/content/drive/MyDrive/knn_accuracy_2.png')\n"
      ],
      "metadata": {
        "id": "XZGmbO2SIjnE"
      },
      "id": "XZGmbO2SIjnE",
      "execution_count": null,
      "outputs": []
    }
  ],
  "metadata": {
    "kernelspec": {
      "display_name": "Python 3",
      "name": "python3"
    },
    "language_info": {
      "codemirror_mode": {
        "name": "ipython",
        "version": 3
      },
      "file_extension": ".py",
      "mimetype": "text/x-python",
      "name": "python",
      "nbconvert_exporter": "python",
      "pygments_lexer": "ipython3",
      "version": "3.6.15"
    },
    "colab": {
      "provenance": [],
      "machine_shape": "hm",
      "gpuType": "T4",
      "include_colab_link": true
    },
    "accelerator": "GPU"
  },
  "nbformat": 4,
  "nbformat_minor": 5
}