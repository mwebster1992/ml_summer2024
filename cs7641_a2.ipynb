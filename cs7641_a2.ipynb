{
 "cells": [
  {
   "cell_type": "code",
   "execution_count": 4,
   "id": "c5b46b75-b071-4ca1-9ca6-ef193f6ff51a",
   "metadata": {},
   "outputs": [],
   "source": [
    "import mlrose_hiive as mlr\n",
    "import numpy as np\n",
    "import sys\n",
    "sys.path.append('./pyperch') \n",
    "import matplotlib.pyplot as plt\n",
    "from sklearn.model_selection import train_test_split\n",
    "from sklearn.preprocessing import MinMaxScaler, OneHotEncoder\n",
    "from sklearn.metrics import accuracy_score\n",
    "from mlrose_hiive import SARunner, GARunner, RHCRunner, NNGSRunner"
   ]
  },
  {
   "cell_type": "code",
   "execution_count": 5,
   "id": "d05055b7-06ca-49a4-9889-ddbee0082d00",
   "metadata": {},
   "outputs": [],
   "source": [
    "from pyperch.neural.backprop_nn import BackpropModule"
   ]
  },
  {
   "cell_type": "code",
   "execution_count": 4,
   "id": "500c6c2a-966a-46f8-9d7f-9e87f86dbce1",
   "metadata": {},
   "outputs": [
    {
     "name": "stdout",
     "output_type": "stream",
     "text": [
      "<class 'pyperch.neural.backprop_nn.BackpropModule'>\n"
     ]
    }
   ],
   "source": [
    "print(BackpropModule)"
   ]
  },
  {
   "cell_type": "code",
   "execution_count": 21,
   "id": "cb3c306c-c413-47f9-bf61-b80033b1d812",
   "metadata": {},
   "outputs": [],
   "source": [
    "# Problem 1 -- Warehouse Layout Optimization Problem\n",
    "# Define the layout dimensions and other constants\n",
    "layout_width = 10\n",
    "layout_height = 10\n",
    "num_cells = layout_width * layout_height\n",
    "num_racks = 50  # Number of storage racks\n",
    "num_aisles = num_cells - num_racks  # Number of aisles\n",
    "\n",
    "# Define the entry/exit point(s)\n",
    "entry_exit_points = [(0, 0)]\n",
    "\n",
    "# Define the fitness function\n",
    "def travel_distance(state):\n",
    "    layout = np.array(state).reshape(layout_height, layout_width)\n",
    "    total_distance = 0\n",
    "\n",
    "    for (i, row) in enumerate(layout):\n",
    "        for (j, cell) in enumerate(row):\n",
    "            if cell == 1:  # If the cell is a storage rack\n",
    "                min_distance = float('inf')\n",
    "                for (entry_i, entry_j) in entry_exit_points:\n",
    "                    distance = abs(entry_i - i) + abs(entry_j - j)\n",
    "                    if distance < min_distance:\n",
    "                        min_distance = distance\n",
    "                total_distance += min_distance\n",
    "    \n",
    "    # Check accessibility\n",
    "    # Here you should add your logic to check if all racks are accessible\n",
    "    # If not accessible, add a penalty to total_distance\n",
    "\n",
    "    return total_distance\n",
    "\n",
    "# Create a fitness object\n",
    "fitness = mlr.CustomFitness(travel_distance)\n",
    "\n",
    "\n",
    "\n",
    "# Define the optimization problem object\n",
    "problem = mlr.DiscreteOpt(length=num_cells, fitness_fn=fitness, maximize=False, max_val=2)\n",
    "\n",
    "# Define the initial state (randomly placing racks and aisles)\n",
    "initial_state = np.random.choice([0, 1], size=num_cells, p=[num_aisles/num_cells, num_racks/num_cells])\n"
   ]
  },
  {
   "cell_type": "code",
   "execution_count": 22,
   "id": "7e44e44d-97f9-4125-9663-0170a029bb6c",
   "metadata": {},
   "outputs": [],
   "source": [
    "sa = SARunner(problem=problem,\n",
    "              experiment_name='warehouse_sa',\n",
    "              output_directory=\"./warehouse\", # note: specify an output directory to have results saved to disk\n",
    "              seed=42,\n",
    "              iteration_list=2 ** np.arange(11),\n",
    "              max_attempts=500,\n",
    "              temperature_list=[0.1, 0.5, 0.75, 1.0, 2.0, 5.0],\n",
    "              decay_list=[mlr.GeomDecay],\n",
    "              init_state=initial_state)\n",
    "\n",
    "wh_sa_run_stats, wh_sa_run_curves = sa.run()"
   ]
  },
  {
   "cell_type": "code",
   "execution_count": 27,
   "id": "d396a6fe-6d3a-4dad-a9d1-2fd00117d5ba",
   "metadata": {},
   "outputs": [
    {
     "data": {
      "text/plain": [
       "<bound method NDFrame.head of     Iteration  Fitness  FEvals      Time  \\\n",
       "0           0    469.0       1  0.000197   \n",
       "1           1    463.0       3  0.006329   \n",
       "2           2    452.0       5  0.012167   \n",
       "3           4    439.0       9  0.016247   \n",
       "4           8    439.0      13  0.022636   \n",
       "..        ...      ...     ...       ...   \n",
       "67         64    306.0     103  0.335816   \n",
       "68        128    185.0     190  0.389481   \n",
       "69        256     50.0     341  0.450069   \n",
       "70        512      9.0     606  0.532525   \n",
       "71       1024      0.0    1123  0.697109   \n",
       "\n",
       "                                                State schedule_type  \\\n",
       "0   [1, 0, 1, 0, 0, 0, 0, 1, 0, 0, 1, 1, 1, 1, 1, ...     geometric   \n",
       "1   [1, 0, 1, 0, 0, 0, 0, 1, 0, 0, 1, 1, 1, 1, 1, ...     geometric   \n",
       "2   [1, 0, 1, 0, 0, 0, 0, 1, 0, 0, 1, 1, 1, 1, 1, ...     geometric   \n",
       "3   [1, 0, 1, 0, 0, 0, 0, 1, 0, 0, 1, 1, 1, 1, 0, ...     geometric   \n",
       "4   [1, 0, 1, 0, 0, 0, 0, 1, 0, 0, 1, 1, 1, 1, 0, ...     geometric   \n",
       "..                                                ...           ...   \n",
       "67  [1, 0, 0, 1, 0, 1, 0, 0, 1, 0, 0, 1, 1, 0, 0, ...     geometric   \n",
       "68  [1, 1, 0, 0, 0, 0, 0, 0, 0, 0, 0, 1, 0, 0, 0, ...     geometric   \n",
       "69  [1, 1, 0, 0, 0, 0, 0, 0, 0, 0, 0, 0, 0, 0, 0, ...     geometric   \n",
       "70  [1, 0, 0, 0, 0, 0, 0, 0, 0, 0, 0, 0, 0, 0, 0, ...     geometric   \n",
       "71  [1, 0, 0, 0, 0, 0, 0, 0, 0, 0, 0, 0, 0, 0, 0, ...     geometric   \n",
       "\n",
       "    schedule_init_temp  schedule_decay  schedule_min_temp  \\\n",
       "0                  0.1            0.99              0.001   \n",
       "1                  0.1            0.99              0.001   \n",
       "2                  0.1            0.99              0.001   \n",
       "3                  0.1            0.99              0.001   \n",
       "4                  0.1            0.99              0.001   \n",
       "..                 ...             ...                ...   \n",
       "67                 5.0            0.99              0.001   \n",
       "68                 5.0            0.99              0.001   \n",
       "69                 5.0            0.99              0.001   \n",
       "70                 5.0            0.99              0.001   \n",
       "71                 5.0            0.99              0.001   \n",
       "\n",
       "    schedule_current_value Temperature  max_iters  \\\n",
       "0                 0.100000         0.1       1024   \n",
       "1                 0.099994         0.1       1024   \n",
       "2                 0.099988         0.1       1024   \n",
       "3                 0.099984         0.1       1024   \n",
       "4                 0.099977         0.1       1024   \n",
       "..                     ...         ...        ...   \n",
       "67                4.983153         5.0       1024   \n",
       "68                4.980466         5.0       1024   \n",
       "69                4.977434         5.0       1024   \n",
       "70                4.973311         5.0       1024   \n",
       "71                4.965092         5.0       1024   \n",
       "\n",
       "                                           init_state  \n",
       "0   [1, 0, 1, 0, 0, 0, 0, 1, 0, 0, 1, 1, 1, 1, 1, ...  \n",
       "1   [1, 0, 1, 0, 0, 0, 0, 1, 0, 0, 1, 1, 1, 1, 1, ...  \n",
       "2   [1, 0, 1, 0, 0, 0, 0, 1, 0, 0, 1, 1, 1, 1, 1, ...  \n",
       "3   [1, 0, 1, 0, 0, 0, 0, 1, 0, 0, 1, 1, 1, 1, 1, ...  \n",
       "4   [1, 0, 1, 0, 0, 0, 0, 1, 0, 0, 1, 1, 1, 1, 1, ...  \n",
       "..                                                ...  \n",
       "67  [1, 0, 1, 0, 0, 0, 0, 1, 0, 0, 1, 1, 1, 1, 1, ...  \n",
       "68  [1, 0, 1, 0, 0, 0, 0, 1, 0, 0, 1, 1, 1, 1, 1, ...  \n",
       "69  [1, 0, 1, 0, 0, 0, 0, 1, 0, 0, 1, 1, 1, 1, 1, ...  \n",
       "70  [1, 0, 1, 0, 0, 0, 0, 1, 0, 0, 1, 1, 1, 1, 1, ...  \n",
       "71  [1, 0, 1, 0, 0, 0, 0, 1, 0, 0, 1, 1, 1, 1, 1, ...  \n",
       "\n",
       "[72 rows x 13 columns]>"
      ]
     },
     "execution_count": 27,
     "metadata": {},
     "output_type": "execute_result"
    }
   ],
   "source": [
    "wh_sa_run_stats.head\n"
   ]
  },
  {
   "cell_type": "code",
   "execution_count": 26,
   "id": "6c01038a-f0cb-460e-b98d-e5d873431193",
   "metadata": {},
   "outputs": [
    {
     "data": {
      "text/plain": [
       "'[1, 0, 1, 0, 0, 0, 0, 1, 0, 0, 1, 1, 1, 1, 1, 0, 0, 1, 0, 1, 0, 0, 1, 1, 1, 1, 0, 0, 1, 1, 0, 1, 0, 0, 0, 1, 1, 0, 1, 0, 0, 0, 0, 0, 1, 1, 1, 0, 0, 0, 0, 1, 0, 1, 1, 0, 1, 1, 1, 1, 0, 0, 0, 0, 1, 0, 1, 1, 0, 0, 1, 1, 1, 0, 0, 0, 0, 1, 1, 1, 1, 1, 0, 0, 1, 0, 1, 1, 0, 1, 1, 1, 1, 1, 0, 0, 1, 1, 0, 0]'"
      ]
     },
     "execution_count": 26,
     "metadata": {},
     "output_type": "execute_result"
    }
   ],
   "source": [
    "best_state = wh_sa_run_stats.loc[wh_sa_run_stats['Fitness'].idxmax()]['State']\n",
    "best_fitness = wh_sa_run_stats['Fitness'].min()\n",
    "\n",
    "best_state"
   ]
  },
  {
   "cell_type": "code",
   "execution_count": 28,
   "id": "16a47cad-7b91-4f2d-b304-664c97de1249",
   "metadata": {},
   "outputs": [
    {
     "data": {
      "image/png": "[encoded data removed]",
      "text/plain": [
       "<Figure size 1000x600 with 1 Axes>"
      ]
     },
     "metadata": {},
     "output_type": "display_data"
    }
   ],
   "source": [
    "agg_fitness = wh_sa_run_curves.groupby('Iteration')['Fitness'].mean().reset_index()\n",
    "\n",
    "# Extract iteration and fitness data\n",
    "iterations = agg_fitness['Iteration']\n",
    "fitness_values = agg_fitness['Fitness']\n",
    "\n",
    "# Plot the fitness as a function of iterations\n",
    "plt.figure(figsize=(10, 6))\n",
    "plt.plot(iterations, fitness_values, marker='o', linestyle='-', color='b')\n",
    "plt.title('Fitness as a Function of Iterations')\n",
    "plt.xlabel('Iterations')\n",
    "plt.ylabel('Fitness')\n",
    "plt.grid(True)\n",
    "plt.show()"
   ]
  },
  {
   "cell_type": "code",
   "execution_count": null,
   "id": "8ef952c6-912c-4bc6-9115-b39356f793e8",
   "metadata": {},
   "outputs": [],
   "source": []
  },
  {
   "cell_type": "code",
   "execution_count": 26,
   "id": "9c6cdda2-d28b-46ab-9d4a-a9654b61ebb1",
   "metadata": {},
   "outputs": [],
   "source": [
    "rhc = RHCRunner(problem=problem,\n",
    "              experiment_name='warehouse_rhc',\n",
    "              output_directory=\"./warehouse\", # note: specify an output directory to have results saved to disk\n",
    "              seed=42,\n",
    "              iteration_list=2 ** np.arange(11),\n",
    "              max_attempts=500,\n",
    "              restart_list=[0, 5, 10, 25, 50, 100])\n",
    "\n",
    "df_run_stats, df_run_curves = rhc.run()"
   ]
  },
  {
   "cell_type": "code",
   "execution_count": 28,
   "id": "4f37e586-9996-4478-b1e5-a9beaa6bb2d2",
   "metadata": {},
   "outputs": [
    {
     "data": {
      "image/png": "[encoded data removed]",
      "text/plain": [
       "<Figure size 1000x600 with 1 Axes>"
      ]
     },
     "metadata": {},
     "output_type": "display_data"
    }
   ],
   "source": [
    "rhc_agg_fitness = df_run_curves.groupby('Iteration')['Fitness'].mean().reset_index()\n",
    "\n",
    "# Extract iteration and fitness data\n",
    "iterations = rhc_agg_fitness['Iteration']\n",
    "fitness_values = rhc_agg_fitness['Fitness']\n",
    "\n",
    "# Plot the fitness as a function of iterations\n",
    "plt.figure(figsize=(10, 6))\n",
    "plt.plot(iterations, fitness_values, marker='o', linestyle='-', color='b')\n",
    "plt.title('Fitness as a Function of Iterations')\n",
    "plt.xlabel('Iterations')\n",
    "plt.ylabel('Fitness')\n",
    "plt.grid(True)\n",
    "plt.show()"
   ]
  },
  {
   "cell_type": "code",
   "execution_count": 29,
   "id": "ac1c010a-4092-406d-a333-0e7e9954a947",
   "metadata": {},
   "outputs": [],
   "source": [
    "ga = GARunner(problem=problem,\n",
    "              experiment_name='warehouse_rhc',\n",
    "              output_directory=\"./warehouse\", # note: specify an output directory to have results saved to disk\n",
    "              seed=42,\n",
    "              iteration_list=2 ** np.arange(11),\n",
    "              max_attempts=500,\n",
    "              population_sizes=[100, 200, 300],\n",
    "              mutation_rates=[0.1, 0.15, 0.2])\n",
    "\n",
    "wh_ga_run_stats, wh_ga_run_curves = ga.run()"
   ]
  },
  {
   "cell_type": "code",
   "execution_count": 30,
   "id": "201f5e38-2a35-4628-a617-cbf623c7083c",
   "metadata": {},
   "outputs": [
    {
     "data": {
      "image/png": "[encoded data removed]",
      "text/plain": [
       "<Figure size 1000x600 with 1 Axes>"
      ]
     },
     "metadata": {},
     "output_type": "display_data"
    }
   ],
   "source": [
    "ga_agg_fitness = wh_ga_run_curves.groupby('Iteration')['Fitness'].mean().reset_index()\n",
    "\n",
    "# Extract iteration and fitness data\n",
    "iterations = ga_agg_fitness['Iteration']\n",
    "fitness_values = ga_agg_fitness['Fitness']\n",
    "\n",
    "# Plot the fitness as a function of iterations\n",
    "plt.figure(figsize=(10, 6))\n",
    "plt.plot(iterations, fitness_values, marker='o', linestyle='-', color='b')\n",
    "plt.title('Fitness as a Function of Iterations')\n",
    "plt.xlabel('Iterations')\n",
    "plt.ylabel('Fitness')\n",
    "plt.grid(True)\n",
    "plt.show()"
   ]
  },
  {
   "cell_type": "code",
   "execution_count": 31,
   "id": "af6ea9ac-5ccd-4ca5-b1e9-a74f5e6b5016",
   "metadata": {},
   "outputs": [
    {
     "name": "stdout",
     "output_type": "stream",
     "text": [
      "Total fitness evaluations: 184560\n"
     ]
    }
   ],
   "source": [
    "print(\"Total fitness evaluations:\", wh_ga_run_stats['FEvals'].iloc[-1])"
   ]
  },
  {
   "cell_type": "code",
   "execution_count": 32,
   "id": "ad527bfa-cb9f-46b5-8171-d3591ed75543",
   "metadata": {},
   "outputs": [
    {
     "data": {
      "text/html": [
       "<div>\n",
       "<style scoped>\n",
       "    .dataframe tbody tr th:only-of-type {\n",
       "        vertical-align: middle;\n",
       "    }\n",
       "\n",
       "    .dataframe tbody tr th {\n",
       "        vertical-align: top;\n",
       "    }\n",
       "\n",
       "    .dataframe thead th {\n",
       "        text-align: right;\n",
       "    }\n",
       "</style>\n",
       "<table border=\"1\" class=\"dataframe\">\n",
       "  <thead>\n",
       "    <tr style=\"text-align: right;\">\n",
       "      <th></th>\n",
       "      <th>Iteration</th>\n",
       "      <th>Fitness</th>\n",
       "      <th>FEvals</th>\n",
       "      <th>Time</th>\n",
       "      <th>State</th>\n",
       "      <th>Population Size</th>\n",
       "      <th>Mutation Rate</th>\n",
       "      <th>max_iters</th>\n",
       "    </tr>\n",
       "  </thead>\n",
       "  <tbody>\n",
       "    <tr>\n",
       "      <th>0</th>\n",
       "      <td>0</td>\n",
       "      <td>594.0</td>\n",
       "      <td>100</td>\n",
       "      <td>0.016549</td>\n",
       "      <td>[6, 3, 7, 4, 6, 9, 2, 6, 7, 4, 3, 7, 7, 2, 5, ...</td>\n",
       "      <td>100</td>\n",
       "      <td>0.1</td>\n",
       "      <td>1024</td>\n",
       "    </tr>\n",
       "    <tr>\n",
       "      <th>1</th>\n",
       "      <td>1</td>\n",
       "      <td>396.0</td>\n",
       "      <td>202</td>\n",
       "      <td>0.052679</td>\n",
       "      <td>[6, 3, 1, 8, 9, 8, 6, 2, 0, 3, 2, 0, 3, 3, 7, ...</td>\n",
       "      <td>100</td>\n",
       "      <td>0.1</td>\n",
       "      <td>1024</td>\n",
       "    </tr>\n",
       "    <tr>\n",
       "      <th>2</th>\n",
       "      <td>2</td>\n",
       "      <td>396.0</td>\n",
       "      <td>303</td>\n",
       "      <td>0.069634</td>\n",
       "      <td>[6, 3, 1, 8, 9, 8, 6, 2, 0, 3, 2, 0, 3, 3, 7, ...</td>\n",
       "      <td>100</td>\n",
       "      <td>0.1</td>\n",
       "      <td>1024</td>\n",
       "    </tr>\n",
       "    <tr>\n",
       "      <th>3</th>\n",
       "      <td>4</td>\n",
       "      <td>364.0</td>\n",
       "      <td>506</td>\n",
       "      <td>0.101274</td>\n",
       "      <td>[8, 4, 6, 6, 4, 4, 3, 3, 8, 8, 5, 8, 4, 2, 9, ...</td>\n",
       "      <td>100</td>\n",
       "      <td>0.1</td>\n",
       "      <td>1024</td>\n",
       "    </tr>\n",
       "    <tr>\n",
       "      <th>4</th>\n",
       "      <td>8</td>\n",
       "      <td>282.0</td>\n",
       "      <td>912</td>\n",
       "      <td>0.156402</td>\n",
       "      <td>[3, 3, 1, 3, 6, 1, 2, 2, 8, 7, 5, 5, 6, 7, 7, ...</td>\n",
       "      <td>100</td>\n",
       "      <td>0.1</td>\n",
       "      <td>1024</td>\n",
       "    </tr>\n",
       "    <tr>\n",
       "      <th>...</th>\n",
       "      <td>...</td>\n",
       "      <td>...</td>\n",
       "      <td>...</td>\n",
       "      <td>...</td>\n",
       "      <td>...</td>\n",
       "      <td>...</td>\n",
       "      <td>...</td>\n",
       "      <td>...</td>\n",
       "    </tr>\n",
       "    <tr>\n",
       "      <th>103</th>\n",
       "      <td>64</td>\n",
       "      <td>100.0</td>\n",
       "      <td>19591</td>\n",
       "      <td>2.907033</td>\n",
       "      <td>[5, 5, 4, 4, 4, 4, 4, 4, 3, 2, 3, 5, 3, 4, 4, ...</td>\n",
       "      <td>300</td>\n",
       "      <td>0.2</td>\n",
       "      <td>1024</td>\n",
       "    </tr>\n",
       "    <tr>\n",
       "      <th>104</th>\n",
       "      <td>128</td>\n",
       "      <td>0.0</td>\n",
       "      <td>38876</td>\n",
       "      <td>5.546097</td>\n",
       "      <td>[5, 5, 4, 4, 1, 1, 4, 4, 3, 3, 5, 5, 4, 4, 4, ...</td>\n",
       "      <td>300</td>\n",
       "      <td>0.2</td>\n",
       "      <td>1024</td>\n",
       "    </tr>\n",
       "    <tr>\n",
       "      <th>105</th>\n",
       "      <td>256</td>\n",
       "      <td>0.0</td>\n",
       "      <td>77404</td>\n",
       "      <td>10.937572</td>\n",
       "      <td>[5, 5, 4, 4, 1, 1, 4, 4, 3, 3, 5, 5, 4, 4, 4, ...</td>\n",
       "      <td>300</td>\n",
       "      <td>0.2</td>\n",
       "      <td>1024</td>\n",
       "    </tr>\n",
       "    <tr>\n",
       "      <th>106</th>\n",
       "      <td>512</td>\n",
       "      <td>0.0</td>\n",
       "      <td>154460</td>\n",
       "      <td>21.633761</td>\n",
       "      <td>[5, 5, 4, 4, 1, 1, 4, 4, 3, 3, 5, 5, 4, 4, 4, ...</td>\n",
       "      <td>300</td>\n",
       "      <td>0.2</td>\n",
       "      <td>1024</td>\n",
       "    </tr>\n",
       "    <tr>\n",
       "      <th>107</th>\n",
       "      <td>1024</td>\n",
       "      <td>0.0</td>\n",
       "      <td>184560</td>\n",
       "      <td>25.708861</td>\n",
       "      <td>[5, 5, 4, 4, 1, 1, 4, 4, 3, 3, 5, 5, 4, 4, 4, ...</td>\n",
       "      <td>300</td>\n",
       "      <td>0.2</td>\n",
       "      <td>1024</td>\n",
       "    </tr>\n",
       "  </tbody>\n",
       "</table>\n",
       "<p>108 rows × 8 columns</p>\n",
       "</div>"
      ],
      "text/plain": [
       "     Iteration  Fitness  FEvals       Time  \\\n",
       "0            0    594.0     100   0.016549   \n",
       "1            1    396.0     202   0.052679   \n",
       "2            2    396.0     303   0.069634   \n",
       "3            4    364.0     506   0.101274   \n",
       "4            8    282.0     912   0.156402   \n",
       "..         ...      ...     ...        ...   \n",
       "103         64    100.0   19591   2.907033   \n",
       "104        128      0.0   38876   5.546097   \n",
       "105        256      0.0   77404  10.937572   \n",
       "106        512      0.0  154460  21.633761   \n",
       "107       1024      0.0  184560  25.708861   \n",
       "\n",
       "                                                 State  Population Size  \\\n",
       "0    [6, 3, 7, 4, 6, 9, 2, 6, 7, 4, 3, 7, 7, 2, 5, ...              100   \n",
       "1    [6, 3, 1, 8, 9, 8, 6, 2, 0, 3, 2, 0, 3, 3, 7, ...              100   \n",
       "2    [6, 3, 1, 8, 9, 8, 6, 2, 0, 3, 2, 0, 3, 3, 7, ...              100   \n",
       "3    [8, 4, 6, 6, 4, 4, 3, 3, 8, 8, 5, 8, 4, 2, 9, ...              100   \n",
       "4    [3, 3, 1, 3, 6, 1, 2, 2, 8, 7, 5, 5, 6, 7, 7, ...              100   \n",
       "..                                                 ...              ...   \n",
       "103  [5, 5, 4, 4, 4, 4, 4, 4, 3, 2, 3, 5, 3, 4, 4, ...              300   \n",
       "104  [5, 5, 4, 4, 1, 1, 4, 4, 3, 3, 5, 5, 4, 4, 4, ...              300   \n",
       "105  [5, 5, 4, 4, 1, 1, 4, 4, 3, 3, 5, 5, 4, 4, 4, ...              300   \n",
       "106  [5, 5, 4, 4, 1, 1, 4, 4, 3, 3, 5, 5, 4, 4, 4, ...              300   \n",
       "107  [5, 5, 4, 4, 1, 1, 4, 4, 3, 3, 5, 5, 4, 4, 4, ...              300   \n",
       "\n",
       "     Mutation Rate  max_iters  \n",
       "0              0.1       1024  \n",
       "1              0.1       1024  \n",
       "2              0.1       1024  \n",
       "3              0.1       1024  \n",
       "4              0.1       1024  \n",
       "..             ...        ...  \n",
       "103            0.2       1024  \n",
       "104            0.2       1024  \n",
       "105            0.2       1024  \n",
       "106            0.2       1024  \n",
       "107            0.2       1024  \n",
       "\n",
       "[108 rows x 8 columns]"
      ]
     },
     "execution_count": 32,
     "metadata": {},
     "output_type": "execute_result"
    }
   ],
   "source": [
    "wh_ga_run_stats"
   ]
  },
  {
   "cell_type": "code",
   "execution_count": 37,
   "id": "32bd820e-60ce-41b2-8d0e-e3d068f41810",
   "metadata": {},
   "outputs": [],
   "source": [
    "best_state = wh_ga_run_stats.loc[wh_ga_run_stats['Fitness'].idxmin()]['State']\n",
    "best_fitness = wh_ga_run_stats['Fitness'].min()\n"
   ]
  },
  {
   "cell_type": "code",
   "execution_count": 42,
   "id": "c6504999-bcbf-4c26-b608-59f0c6f370cd",
   "metadata": {},
   "outputs": [],
   "source": [
    "best_state_str = best_state"
   ]
  },
  {
   "cell_type": "code",
   "execution_count": 46,
   "id": "c7f97848-c5cf-4771-ad44-ee99b1d87c6b",
   "metadata": {},
   "outputs": [
    {
     "name": "stdout",
     "output_type": "stream",
     "text": [
      "[array([43, 40, 46, 12, 24, 31, 17]), array([30, 36,  2, 48, 42]), array([ 1, 49,  5]), array([25, 46, 13, 48]), array([39,  7, 29, 30,  9,  6, 17, 24]), array([36, 45, 12, 16, 33, 42, 19,  9, 23]), array([ 8, 24]), array([ 4, 42, 27]), array([35, 30, 39,  2, 43, 10]), array([14, 46,  6]), array([21]), array([42,  7,  0,  5,  1, 39, 22]), array([25]), array([33]), array([49,  3,  7, 40]), array([23, 22, 47, 19, 42]), array([13,  0, 30]), array([15, 38, 27,  3, 46, 32]), array([28, 22, 27, 30, 14, 23, 29, 37, 34]), array([32, 15])]\n"
     ]
    }
   ],
   "source": [
    "print(orders)"
   ]
  },
  {
   "cell_type": "code",
   "execution_count": 44,
   "id": "67cb5594-f7b8-4081-94ab-ab320bc860f0",
   "metadata": {},
   "outputs": [
    {
     "data": {
      "image/png": "[encoded data removed]",
      "text/plain": [
       "<Figure size 1000x800 with 1 Axes>"
      ]
     },
     "metadata": {},
     "output_type": "display_data"
    }
   ],
   "source": [
    "num_rows = 10\n",
    "num_cols = 10\n",
    "warehouse_layout = np.zeros((num_rows, num_cols))\n",
    "best_state = eval(best_state_str)\n",
    "\n",
    "# Map items from the best state to positions in the warehouse layout\n",
    "for idx, item in enumerate(best_state):\n",
    "    row = idx // num_cols\n",
    "    col = idx % num_cols\n",
    "    warehouse_layout[row, col] = item\n",
    "\n",
    "# Plotting the warehouse layout\n",
    "plt.figure(figsize=(10, 8))\n",
    "\n",
    "# Create a colormap for visualization (adjust colors as needed)\n",
    "cmap = plt.get_cmap('tab20', np.max(best_state) + 1)\n",
    "\n",
    "# Plot each cell in the warehouse grid\n",
    "for i in range(num_rows):\n",
    "    for j in range(num_cols):\n",
    "        item = int(warehouse_layout[i, j])\n",
    "        plt.text(j, i, str(item), ha='center', va='center', color='white' if item == 0 else 'black', fontsize=10, fontweight='bold', bbox=dict(facecolor=cmap(item), alpha=0.7))\n",
    "\n",
    "plt.title('Warehouse Layout with Best State Items')\n",
    "plt.xlabel('Columns')\n",
    "plt.ylabel('Rows')\n",
    "plt.xticks(range(num_cols))\n",
    "plt.yticks(range(num_rows))\n",
    "plt.grid(True)\n",
    "plt.show()"
   ]
  },
  {
   "cell_type": "code",
   "execution_count": 47,
   "id": "10b268a5-7862-4502-bb9c-942122b06e8b",
   "metadata": {},
   "outputs": [
    {
     "data": {
      "text/plain": [
       "array([15, 22,  2, 38,  9,  7, 17, 12])"
      ]
     },
     "execution_count": 47,
     "metadata": {},
     "output_type": "execute_result"
    }
   ],
   "source": [
    "np.random.choice(range(num_items), size=np.random.randint(1, 10), replace=False)"
   ]
  },
  {
   "cell_type": "code",
   "execution_count": 16,
   "id": "e6db499c-0a9d-4441-9767-f5d187173481",
   "metadata": {},
   "outputs": [
    {
     "data": {
      "text/plain": [
       "{0: (0, 7),\n",
       " 1: (9, 1),\n",
       " 2: (2, 1),\n",
       " 3: (2, 6),\n",
       " 4: (0, 9),\n",
       " 5: (7, 9),\n",
       " 6: (9, 9),\n",
       " 7: (1, 2),\n",
       " 8: (8, 6),\n",
       " 9: (3, 9),\n",
       " 10: (4, 1),\n",
       " 11: (7, 3),\n",
       " 12: (8, 4),\n",
       " 13: (8, 3),\n",
       " 14: (9, 4),\n",
       " 15: (8, 7),\n",
       " 16: (2, 0),\n",
       " 17: (2, 3),\n",
       " 18: (1, 0),\n",
       " 19: (6, 7),\n",
       " 20: (6, 4),\n",
       " 21: (0, 6),\n",
       " 22: (6, 8),\n",
       " 23: (2, 8),\n",
       " 24: (0, 0)}"
      ]
     },
     "execution_count": 16,
     "metadata": {},
     "output_type": "execute_result"
    }
   ],
   "source": [
    "initial_layout"
   ]
  },
  {
   "cell_type": "code",
   "execution_count": 29,
   "id": "2412dd22-dba8-4b1c-857e-23def1f356dd",
   "metadata": {},
   "outputs": [],
   "source": [
    "# Define job-shop data\n",
    "jobs_data = [\n",
    "    [(0, 3), (1, 2), (2, 2)],  # Job 0\n",
    "    [(0, 2), (2, 1), (1, 4)],  # Job 1\n",
    "    [(1, 4), (2, 3)]           # Job 2\n",
    "]\n",
    "\n",
    "num_jobs = len(jobs_data)\n",
    "num_machines = max(max(task[0] for task in job) for job in jobs_data) + 1\n",
    "\n",
    "# Flatten the job data to a list of tasks\n",
    "tasks = [(job_id, machine_id, duration) for job_id, job in enumerate(jobs_data) for machine_id, duration in job]\n",
    "num_tasks = len(tasks)"
   ]
  },
  {
   "cell_type": "code",
   "execution_count": 140,
   "id": "741260be-7453-47d7-a370-b89209535494",
   "metadata": {},
   "outputs": [
    {
     "data": {
      "text/plain": [
       "[(0, 0, 3),\n",
       " (0, 1, 2),\n",
       " (0, 2, 2),\n",
       " (1, 0, 2),\n",
       " (1, 2, 1),\n",
       " (1, 1, 4),\n",
       " (2, 1, 4),\n",
       " (2, 2, 3)]"
      ]
     },
     "execution_count": 140,
     "metadata": {},
     "output_type": "execute_result"
    }
   ],
   "source": [
    "tasks"
   ]
  },
  {
   "cell_type": "code",
   "execution_count": 144,
   "id": "4ee620e2-d17f-4cb2-8864-71c9d1f5c9da",
   "metadata": {},
   "outputs": [],
   "source": [
    "def job_shop_fitness(state):\n",
    "    # state is a permutation of task indices\n",
    "    schedule = [tasks[i] for i in state]\n",
    "    #print(f'Schedule is {schedule}')\n",
    "    \n",
    "    # Initialize machine completion times and job completion times\n",
    "    machine_times = [0] * num_machines\n",
    "    job_times = [0] * num_jobs\n",
    "    \n",
    "    # Initialize the last completed task index for each job\n",
    "    last_task_index = {job_id: -1 for job_id in range(num_jobs)}\n",
    "\n",
    "    #print(last_task_index)\n",
    "    \n",
    "    # Initialize the makespan and penalty\n",
    "    makespan = 0\n",
    "    penalty = 0\n",
    "    duplicate_penalty = 0\n",
    "    penalty_value = 50  # Penalty for executing a task out of order\n",
    "    \n",
    "    for job_id, machine_id, duration in schedule:\n",
    "        # Check if the current task is the next in sequence for its job\n",
    "        if last_task_index[job_id] + 1 != state[tasks.index((job_id, machine_id, duration))]:\n",
    "            penalty += penalty_value\n",
    "            #print('Penalty assessed')\n",
    "        else:\n",
    "            # Update the last completed task index for the job\n",
    "            last_task_index[job_id] += 1\n",
    "            \n",
    "            # Calculate the start time for the current task\n",
    "            start_time = max(machine_times[machine_id], job_times[job_id])\n",
    "            # Calculate the end time for the current task\n",
    "            end_time = start_time + duration\n",
    "            \n",
    "            # Update machine and job completion times\n",
    "            machine_times[machine_id] = end_time\n",
    "            job_times[job_id] = end_time\n",
    "        #print(f'Last task index after task completion:  {last_task_index}')\n",
    "    \n",
    "    # The fitness is the makespan (total completion time) plus any penalties\n",
    "    makespan = max(machine_times)\n",
    "    \n",
    "    if len(schedule) != len(set(schedule)):\n",
    "        duplicate_penalty = 500\n",
    "        \n",
    "    return makespan + penalty + duplicate_penalty"
   ]
  },
  {
   "cell_type": "code",
   "execution_count": 84,
   "id": "b5f45c1b-527a-4fbe-8a59-38ca2bbe4634",
   "metadata": {},
   "outputs": [],
   "source": [
    "initial_state = np.random.permutation(num_tasks)"
   ]
  },
  {
   "cell_type": "code",
   "execution_count": 85,
   "id": "81c78300-e3d4-441c-ad62-db075282ad8d",
   "metadata": {},
   "outputs": [
    {
     "data": {
      "text/plain": [
       "array([0, 4, 2, 6, 7, 1, 5, 3])"
      ]
     },
     "execution_count": 85,
     "metadata": {},
     "output_type": "execute_result"
    }
   ],
   "source": [
    "initial_state"
   ]
  },
  {
   "cell_type": "code",
   "execution_count": 86,
   "id": "5b70397b-50c0-4ef7-b68d-b3eedb0de4b7",
   "metadata": {},
   "outputs": [
    {
     "name": "stdout",
     "output_type": "stream",
     "text": [
      "Schedule is [(0, 0, 3), (1, 2, 1), (0, 2, 2), (2, 1, 4), (2, 2, 3), (0, 1, 2), (1, 1, 4), (1, 0, 2)]\n",
      "{0: -1, 1: -1, 2: -1}\n",
      "Last task index after task completion:  {0: 0, 1: -1, 2: -1}\n",
      "Penalty assessed\n",
      "Last task index after task completion:  {0: 0, 1: -1, 2: -1}\n",
      "Penalty assessed\n",
      "Last task index after task completion:  {0: 0, 1: -1, 2: -1}\n",
      "Penalty assessed\n",
      "Last task index after task completion:  {0: 0, 1: -1, 2: -1}\n",
      "Penalty assessed\n",
      "Last task index after task completion:  {0: 0, 1: -1, 2: -1}\n",
      "Penalty assessed\n",
      "Last task index after task completion:  {0: 0, 1: -1, 2: -1}\n",
      "Penalty assessed\n",
      "Last task index after task completion:  {0: 0, 1: -1, 2: -1}\n",
      "Penalty assessed\n",
      "Last task index after task completion:  {0: 0, 1: -1, 2: -1}\n"
     ]
    }
   ],
   "source": [
    "makespan = job_shop_fitness(initial_state)"
   ]
  },
  {
   "cell_type": "code",
   "execution_count": 87,
   "id": "c95fd6c5-938a-4aaa-b16c-20b1372f4de5",
   "metadata": {},
   "outputs": [
    {
     "data": {
      "text/plain": [
       "7003"
      ]
     },
     "execution_count": 87,
     "metadata": {},
     "output_type": "execute_result"
    }
   ],
   "source": [
    "makespan"
   ]
  },
  {
   "cell_type": "code",
   "execution_count": null,
   "id": "b9948180-561b-4386-8a94-1a4d1a2e31f7",
   "metadata": {},
   "outputs": [],
   "source": [
    "fitness = mlr.CustomFitness(job_shop_fitness)\n",
    "\n",
    "# Define the optimization problem object\n",
    "problem = mlr.DiscreteOpt(length=num_tasks, fitness_fn=fitness, maximize=False, max_val=num_tasks)\n",
    "\n",
    "# Define the initial state (a random permutation of task indices)\n",
    "initial_state = np.random.permutation(num_tasks)\n",
    "\n",
    "# Set up the simulated annealing runner\n",
    "sa = mlr.SARunner(problem=problem,\n",
    "                            experiment_name=\"job_shop_scheduling_sa\",\n",
    "                            output_directory=\"./job_shop_scheduling\",\n",
    "                            seed=42,\n",
    "                            iteration_list=2 ** np.arange(25),  # Number of iterations\n",
    "                            max_attempts=100000,\n",
    "                            temperature_list=[0.1, 0.5, 0.75, 1.0, 2.0, 5.0, 7.0, 10.0, 100.0, 1000.0],  # Initial temperature\n",
    "                            decay_list=[mlr.GeomDecay],\n",
    "                            init_state=initial_state)  # Set initial state\n",
    "\n",
    "# Run the simulated annealing algorithm\n",
    "jss_sa_run_stats, jss_sa_run_curves = sa.run()"
   ]
  },
  {
   "cell_type": "code",
   "execution_count": null,
   "id": "08e568e7-17f2-4a9c-bd42-3e413ad97851",
   "metadata": {},
   "outputs": [],
   "source": [
    "jss_sa_run_stats\n"
   ]
  },
  {
   "cell_type": "code",
   "execution_count": 184,
   "id": "b8d29b36-274b-49d7-87f5-08cc873f7fba",
   "metadata": {},
   "outputs": [
    {
     "data": {
      "text/plain": [
       "'[5, 3, 2, 6, 1, 0, 4, 7]'"
      ]
     },
     "execution_count": 184,
     "metadata": {},
     "output_type": "execute_result"
    }
   ],
   "source": [
    "best_state = jss_sa_run_stats.loc[jss_sa_run_stats['Fitness'].idxmin()]['State']\n",
    "best_state"
   ]
  },
  {
   "cell_type": "code",
   "execution_count": 149,
   "id": "bda318cd-91a6-4cf5-bdd6-57204879936c",
   "metadata": {},
   "outputs": [],
   "source": [
    "def plot_best_state_jss(best_state):\n",
    "    # Extract the best schedule from the best state\n",
    "    best_schedule = [tasks[i] for i in best_state]\n",
    "    print(best_schedule)\n",
    "    \n",
    "    # Reconstruct the schedule including start and end times for each task\n",
    "    machine_times = [0] * num_machines\n",
    "    job_times = [0] * num_jobs\n",
    "    gantt_data = []\n",
    "    \n",
    "    for job_id, machine_id, duration in best_schedule:\n",
    "        start_time = max(machine_times[machine_id], job_times[job_id])\n",
    "        end_time = start_time + duration\n",
    "        machine_times[machine_id] = end_time\n",
    "        job_times[job_id] = end_time\n",
    "        gantt_data.append((job_id, machine_id, start_time, end_time))\n",
    "\n",
    "    print(gantt_data)\n",
    "    \n",
    "    # Plot the Gantt chart\n",
    "    fig, ax = plt.subplots(figsize=(10, 6))\n",
    "    \n",
    "    # Plotting bars for tasks\n",
    "    for idx, (job_id, machine_id, start_time, end_time) in enumerate(gantt_data):\n",
    "        if job_id == 0:\n",
    "            color = 'y'\n",
    "        elif job_id == 1:\n",
    "            color = 'b'\n",
    "        else:\n",
    "            color = 'r'\n",
    "        ax.barh(machine_id, end_time - start_time, left=start_time, height=0.7, align='center', color=color, alpha=0.7, edgecolor='black')\n",
    "    \n",
    "    # Adding labels and title\n",
    "    ax.set_xlabel('Time')\n",
    "    ax.set_ylabel('Machine')\n",
    "    ax.set_title('Job Shop Scheduling Gantt Chart')\n",
    "    \n",
    "    # Setting y-axis ticks and labels\n",
    "    ax.set_yticks(range(num_machines))\n",
    "    ax.set_yticklabels([f'Machine {i}' for i in range(num_machines)])\n",
    "    \n",
    "    # Inverting y-axis to have Machine 0 at the top\n",
    "    ax.invert_yaxis()\n",
    "    \n",
    "    # Adding grid lines for better readability\n",
    "    ax.grid(True)\n",
    "    \n",
    "    plt.tight_layout()\n",
    "    plt.show()"
   ]
  },
  {
   "cell_type": "code",
   "execution_count": 183,
   "id": "f1bbfca7-3724-4473-8e67-09997050166a",
   "metadata": {},
   "outputs": [
    {
     "name": "stdout",
     "output_type": "stream",
     "text": [
      "[(1, 0, 2), (0, 2, 2), (2, 2, 3), (1, 2, 1), (1, 1, 4), (2, 1, 4), (0, 1, 2), (0, 0, 3)]\n",
      "[(1, 0, 0, 2), (0, 2, 0, 2), (2, 2, 2, 5), (1, 2, 5, 6), (1, 1, 6, 10), (2, 1, 10, 14), (0, 1, 14, 16), (0, 0, 16, 19)]\n"
     ]
    },
    {
     "data": {
      "image/png": "[encoded data removed]",
      "text/plain": [
       "<Figure size 1000x600 with 1 Axes>"
      ]
     },
     "metadata": {},
     "output_type": "display_data"
    }
   ],
   "source": [
    "plot_best_state_jss(eval(best_state))"
   ]
  },
  {
   "cell_type": "code",
   "execution_count": 158,
   "id": "d6da123a-168e-4352-9a09-48914d9bff20",
   "metadata": {},
   "outputs": [],
   "source": [
    "def random_neighbor(state):\n",
    "        \"\"\"Return random neighbor of current state vector.\n",
    "\n",
    "        Returns\n",
    "        -------\n",
    "        neighbor: array\n",
    "            State vector of random neighbor.\n",
    "        \"\"\"\n",
    "        neighbor = np.copy(state)\n",
    "        i = np.random.randint(0,8)\n",
    "\n",
    "        vals = list(np.arange(8))\n",
    "        vals.remove(neighbor[i])\n",
    "        neighbor[i] = vals[np.random.randint(0, 7)]\n",
    "\n",
    "        return neighbor"
   ]
  },
  {
   "cell_type": "code",
   "execution_count": 159,
   "id": "b459fd8d-06f3-4301-9d21-18b890359d36",
   "metadata": {},
   "outputs": [
    {
     "ename": "IndexError",
     "evalue": "too many indices for array: array is 0-dimensional, but 1 were indexed",
     "output_type": "error",
     "traceback": [
      "\u001b[1;31m---------------------------------------------------------------------------\u001b[0m",
      "\u001b[1;31mIndexError\u001b[0m                                Traceback (most recent call last)",
      "Cell \u001b[1;32mIn[159], line 1\u001b[0m\n\u001b[1;32m----> 1\u001b[0m \u001b[43mrandom_neighbor\u001b[49m\u001b[43m(\u001b[49m\u001b[43mbest_state\u001b[49m\u001b[43m)\u001b[49m\n",
      "Cell \u001b[1;32mIn[158], line 13\u001b[0m, in \u001b[0;36mrandom_neighbor\u001b[1;34m(state)\u001b[0m\n\u001b[0;32m     10\u001b[0m i \u001b[38;5;241m=\u001b[39m np\u001b[38;5;241m.\u001b[39mrandom\u001b[38;5;241m.\u001b[39mrandint(\u001b[38;5;241m0\u001b[39m,\u001b[38;5;241m8\u001b[39m)\n\u001b[0;32m     12\u001b[0m vals \u001b[38;5;241m=\u001b[39m \u001b[38;5;28mlist\u001b[39m(np\u001b[38;5;241m.\u001b[39marange(\u001b[38;5;241m8\u001b[39m))\n\u001b[1;32m---> 13\u001b[0m vals\u001b[38;5;241m.\u001b[39mremove(\u001b[43mneighbor\u001b[49m\u001b[43m[\u001b[49m\u001b[43mi\u001b[49m\u001b[43m]\u001b[49m)\n\u001b[0;32m     14\u001b[0m neighbor[i] \u001b[38;5;241m=\u001b[39m vals[np\u001b[38;5;241m.\u001b[39mrandom\u001b[38;5;241m.\u001b[39mrandint(\u001b[38;5;241m0\u001b[39m, \u001b[38;5;241m7\u001b[39m)]\n\u001b[0;32m     16\u001b[0m \u001b[38;5;28;01mreturn\u001b[39;00m neighbor\n",
      "\u001b[1;31mIndexError\u001b[0m: too many indices for array: array is 0-dimensional, but 1 were indexed"
     ]
    }
   ],
   "source": [
    "random_neighbor(best_state)"
   ]
  },
  {
   "cell_type": "code",
   "execution_count": 167,
   "id": "71764997-44c1-434d-84dd-a08aa8cfa6e2",
   "metadata": {},
   "outputs": [],
   "source": [
    "neighbor = np.copy(best_state)\n",
    "i = np.random.randint(0, 8)\n",
    "vals = list(np.arange(8))"
   ]
  },
  {
   "cell_type": "code",
   "execution_count": 176,
   "id": "3108a21f-8c4a-460a-9dfd-476b3ebde1b0",
   "metadata": {},
   "outputs": [
    {
     "data": {
      "text/plain": [
       "5"
      ]
     },
     "execution_count": 176,
     "metadata": {},
     "output_type": "execute_result"
    }
   ],
   "source": [
    "vals[np.random.randint(0, 7)]"
   ]
  },
  {
   "cell_type": "code",
   "execution_count": 177,
   "id": "e6f0a149-b34c-430f-bad6-01b60729c9cc",
   "metadata": {},
   "outputs": [
    {
     "ename": "IndexError",
     "evalue": "too many indices for array: array is 0-dimensional, but 1 were indexed",
     "output_type": "error",
     "traceback": [
      "\u001b[1;31m---------------------------------------------------------------------------\u001b[0m",
      "\u001b[1;31mIndexError\u001b[0m                                Traceback (most recent call last)",
      "Cell \u001b[1;32mIn[177], line 1\u001b[0m\n\u001b[1;32m----> 1\u001b[0m \u001b[38;5;28mlist\u001b[39m(\u001b[43mneighbor\u001b[49m\u001b[43m[\u001b[49m\u001b[43mi\u001b[49m\u001b[43m]\u001b[49m)\n",
      "\u001b[1;31mIndexError\u001b[0m: too many indices for array: array is 0-dimensional, but 1 were indexed"
     ]
    }
   ],
   "source": [
    "list(neighbor[i])"
   ]
  },
  {
   "cell_type": "code",
   "execution_count": 171,
   "id": "35e10980-48cb-4157-9efe-04b6a83fd874",
   "metadata": {},
   "outputs": [
    {
     "ename": "IndexError",
     "evalue": "too many indices for array: array is 0-dimensional, but 1 were indexed",
     "output_type": "error",
     "traceback": [
      "\u001b[1;31m---------------------------------------------------------------------------\u001b[0m",
      "\u001b[1;31mIndexError\u001b[0m                                Traceback (most recent call last)",
      "Cell \u001b[1;32mIn[171], line 1\u001b[0m\n\u001b[1;32m----> 1\u001b[0m vals[\u001b[43mneighbor\u001b[49m\u001b[43m[\u001b[49m\u001b[43mi\u001b[49m\u001b[43m]\u001b[49m]\n",
      "\u001b[1;31mIndexError\u001b[0m: too many indices for array: array is 0-dimensional, but 1 were indexed"
     ]
    }
   ],
   "source": [
    "vals[neighbor[i]]"
   ]
  },
  {
   "cell_type": "code",
   "execution_count": null,
   "id": "822fdb63-4ff1-448b-8fbd-243dfef9bf47",
   "metadata": {},
   "outputs": [],
   "source": []
  }
 ],
 "metadata": {
  "kernelspec": {
   "display_name": "Python 3 (ipykernel)",
   "language": "python",
   "name": "python3"
  },
  "language_info": {
   "codemirror_mode": {
    "name": "ipython",
    "version": 3
   },
   "file_extension": ".py",
   "mimetype": "text/x-python",
   "name": "python",
   "nbconvert_exporter": "python",
   "pygments_lexer": "ipython3",
   "version": "3.10.14"
  }
 },
 "nbformat": 4,
 "nbformat_minor": 5
}
